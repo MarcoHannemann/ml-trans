{
 "cells": [
  {
   "cell_type": "markdown",
   "source": [
    "Model description\n"
   ],
   "metadata": {
    "collapsed": false,
    "pycharm": {
     "name": "#%% md\n"
    }
   }
  },
  {
   "cell_type": "markdown",
   "source": [
    "## 0. Import the required modules"
   ],
   "metadata": {
    "collapsed": false,
    "pycharm": {
     "name": "#%% md\n"
    }
   }
  },
  {
   "cell_type": "code",
   "execution_count": null,
   "outputs": [],
   "source": [
    "import pickle\n",
    "\n",
    "import numpy as np\n",
    "import pandas as pd\n",
    "import tensorflow as tf\n",
    "from timezonefinder import TimezoneFinder\n",
    "\n",
    "import solar\n",
    "import phys_model"
   ],
   "metadata": {
    "collapsed": false,
    "pycharm": {
     "name": "#%%\n"
    }
   }
  },
  {
   "cell_type": "markdown",
   "source": [
    "## 1. Loading the model and setting the options"
   ],
   "metadata": {
    "collapsed": false,
    "pycharm": {
     "name": "#%% md\n"
    }
   }
  },
  {
   "cell_type": "code",
   "execution_count": null,
   "outputs": [],
   "source": [
    "# With the seed set to 42, you can reproduce the results from the study\n",
    "np.random.seed(42)\n",
    "\n",
    "# First we need to load the deep learning model and transformation pipeline\n",
    "model = tf.keras.models.load_model(\"models/model/\")\n",
    "with open(\"models/model/pipeline.pickle\", \"rb\") as pipeline_file:\n",
    "    pipeline = pickle.load(pipeline_file)\n",
    "\n",
    "# We define the prediction site and the input features the model was trained for\n",
    "sitename = \"AU-Wom\"\n",
    "features = [\"swvl1\", \"swvl2\", \"vpd\", \"windspeed\", \"IGBP\", \"height\", \"LAI\", \"FPAR\"]"
   ],
   "metadata": {
    "collapsed": false,
    "pycharm": {
     "name": "#%%\n"
    }
   }
  },
  {
   "cell_type": "markdown",
   "source": [
    "## 2. Preparing the input data"
   ],
   "metadata": {
    "collapsed": false,
    "pycharm": {
     "name": "#%% md\n"
    }
   }
  },
  {
   "cell_type": "code",
   "execution_count": null,
   "outputs": [],
   "source": [
    "df = pd.read_csv(f\"data/fluxnet/{sitename}.csv\", index_col=0, parse_dates=True)\n",
    "pft = df[\"IGBP\"].iloc[0]\n",
    "\n",
    "df = df.resample(\"1D\").mean()\n",
    "time_index = df.index\n",
    "\n",
    "\n",
    "# Reassign IGBP which is lost after mean computation\n",
    "df[\"IGBP\"] = pft\n",
    "\n",
    "aux_data = df[[\"t2m\", \"sp\", \"ssr\", \"LAI\"]]\n",
    "inp_data = df[features]\n",
    "\n",
    "inp_data = pipeline.transform(inp_data)"
   ],
   "metadata": {
    "collapsed": false,
    "pycharm": {
     "name": "#%%\n"
    }
   }
  },
  {
   "cell_type": "markdown",
   "source": [
    "## 3. Predict $\\alpha_{c}$ using the trained neural network"
   ],
   "metadata": {
    "collapsed": false,
    "pycharm": {
     "name": "#%% md\n"
    }
   }
  },
  {
   "cell_type": "code",
   "execution_count": null,
   "outputs": [],
   "source": [
    "alpha = pd.Series(model.predict(inp_data).flatten())\n",
    "alpha.index = time_index\n"
   ],
   "metadata": {
    "collapsed": false,
    "pycharm": {
     "name": "#%%\n"
    }
   }
  },
  {
   "cell_type": "markdown",
   "source": [
    "## 4. Compute the daily solar zenith angle (SZA) from metadata"
   ],
   "metadata": {
    "collapsed": false
   }
  },
  {
   "cell_type": "code",
   "execution_count": null,
   "outputs": [],
   "source": [
    "# Get latitude and longitude coordinates for site for calculation of sun zenith angle (SZA)\n",
    "fluxnet_meta = pd.read_csv(\"data/FLX-site_info.csv\", index_col=0, sep=\";\")\n",
    "latitude = fluxnet_meta[fluxnet_meta.index == \"sitename\"][\"lat\"].item()\n",
    "longitude = fluxnet_meta[fluxnet_meta.index == \"sitename\"][\"lon\"].item()\n",
    "\n",
    "# Identify timezone string for the site for date localization in solar.py (e.g. Europe/Berlin)\n",
    "timezone_str = TimezoneFinder().timezone_at(lng=longitude, lat=latitude)\n",
    "\n",
    "# Apply daily SZA averaging\n",
    "sza = pd.Series(time_index).apply(lambda day: solar.hogan_sza_average(lat=latitude,\n",
    "                                                           lon=longitude,\n",
    "                                                           date=day,\n",
    "                                                           timezone=timezone_str))\n",
    "\n",
    "# Convert from cosine(SZA) [RAD] to SZA [deg]\n",
    "sza = np.degrees(np.arccos(sza))\n",
    "sza.index = time_index\n"
   ],
   "metadata": {
    "collapsed": false,
    "pycharm": {
     "name": "#%%\n"
    }
   }
  },
  {
   "cell_type": "markdown",
   "source": [
    "## 5. Run the Priestley-Taylor model on the predicted coefficients"
   ],
   "metadata": {
    "collapsed": false
   }
  },
  {
   "cell_type": "code",
   "execution_count": null,
   "outputs": [],
   "source": [
    "# Apply PT model on predicted alpha coefficients, convert from W m-2 to mm d-1\n",
    "t = phys_model.latent_heat_to_evaporation(\n",
    "    phys_model.pt_standard(\n",
    "        ta=aux_data[\"t2m\"],\n",
    "        p=aux_data[\"sp\"],\n",
    "        netrad=aux_data[\"ssr\"],\n",
    "        LAI=aux_data[\"LAI\"],\n",
    "        SZA=sza,\n",
    "        alpha_c=alpha,\n",
    "    ),\n",
    "    ta=aux_data[\"t2m\"],\n",
    "    scale=\"1D\",\n",
    ")"
   ],
   "metadata": {
    "collapsed": false,
    "pycharm": {
     "name": "#%%\n"
    }
   }
  },
  {
   "cell_type": "markdown",
   "source": [
    "## 6. Write predicted coefficients and calculated transpiration (mm/d) to .CSV file"
   ],
   "metadata": {
    "collapsed": false,
    "pycharm": {
     "name": "#%% md\n"
    }
   }
  },
  {
   "cell_type": "code",
   "execution_count": null,
   "outputs": [],
   "source": [
    "t.index = time_index\n",
    "output = pd.DataFrame(data=[alpha, t]).T\n",
    "output.columns = [\"alpha_c\", \"transpiration\"]\n",
    "output.to_csv(f\"{sitename}.csv\")\n",
    "print(\"debug\")"
   ],
   "metadata": {
    "collapsed": false,
    "pycharm": {
     "name": "#%%\n"
    }
   }
  }
 ],
 "metadata": {
  "kernelspec": {
   "display_name": "Python 3 (ipykernel)",
   "language": "python",
   "name": "python3"
  },
  "language_info": {
   "codemirror_mode": {
    "name": "ipython",
    "version": 3
   },
   "file_extension": ".py",
   "mimetype": "text/x-python",
   "name": "python",
   "nbconvert_exporter": "python",
   "pygments_lexer": "ipython3",
   "version": "3.9.14"
  }
 },
 "nbformat": 4,
 "nbformat_minor": 1
}